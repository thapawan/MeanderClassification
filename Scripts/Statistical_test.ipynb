import pandas as pd
import seaborn as sns
import matplotlib.pyplot as plt
from sklearn.preprocessing import StandardScaler
from statsmodels.stats.outliers_influence import variance_inflation_factor
import scipy.stats as stats
from statsmodels.stats.multicomp import pairwise_tukeyhsd

# Load the CSV file with encoding='latin1' to handle the UnicodeDecodeError
file_path = '/content/MeanderClass_Final_6_24_2025.csv'  # Replace with your actual file path
data = pd.read_csv(file_path, low_memory=False, encoding='latin1')

# Replace -9999 with 0 in the 'NCMI' column
data['NCMI'] = data['NCMI'].replace(-9999, 0)

# Convert relevant columns to numeric, forcing errors to NaN
for column in ['Sinuosity', 'Amplitude (m)', 'Wavelength (m)', 'Water-surface width (m)', 'Meander length (m)', 'NCMI']:
    data[column] = pd.to_numeric(data[column], errors='coerce')

# Filter data for the selected provinces
selected_provinces = ['COASTAL PLAIN', 'PIEDMONT', 'APPALACHIAN PLATEAUS']
data = data[data['Province'].isin(selected_provinces)]

# Drop rows with NaN values in relevant columns
data = data.dropna(subset=['Sinuosity', 'Amplitude (m)', 'Wavelength (m)', 'Water-surface width (m)', 'Meander length (m)', 'NCMI', 'Province'])

# Perform ANOVA for each variable
anova_results = {}
for variable in ['Sinuosity', 'Amplitude (m)', 'Wavelength (m)', 'Water-surface width (m)', 'Meander length (m)', 'NCMI']:
    anova_result = stats.f_oneway(data[data['Province'] == 'COASTAL PLAIN'][variable],
                                  data[data['Province'] == 'PIEDMONT'][variable],
                                  data[data['Province'] == 'APPALACHIAN PLATEAUS'][variable])
    anova_results[variable] = anova_result

# Perform Kruskal-Wallis test for each variable
kruskal_results = {}
for variable in ['Sinuosity', 'Amplitude (m)', 'Wavelength (m)', 'Water-surface width (m)', 'Meander length (m)', 'NCMI']:
    kruskal_result = stats.kruskal(data[data['Province'] == 'COASTAL PLAIN'][variable],
                                   data[data['Province'] == 'PIEDMONT'][variable],
                                   data[data['Province'] == 'APPALACHIAN PLATEAUS'][variable])
    kruskal_results[variable] = kruskal_result

# Perform Tukey's HSD post-hoc test for each variable
tukey_results = {}
for variable in ['Sinuosity', 'Amplitude (m)', 'Wavelength (m)', 'Water-surface width (m)', 'Meander length (m)', 'NCMI']:
    tukey_result = pairwise_tukeyhsd(endog=data[variable], groups=data['Province'], alpha=0.05)
    tukey_results[variable] = tukey_result

# Create a list to store the results
results_list = []
for variable in ['Sinuosity', 'Amplitude (m)', 'Wavelength (m)', 'Water-surface width (m)', 'Meander length (m)', 'NCMI']:
    results_list.append({
        'Variable': variable,
        'ANOVA F-value': anova_results[variable].statistic,
        'ANOVA p-value': anova_results[variable].pvalue,
        'Kruskal H-value': kruskal_results[variable].statistic,
        'Kruskal p-value': kruskal_results[variable].pvalue
    })

# Create the results DataFrame using pd.DataFrame
results_df = pd.DataFrame(results_list)

# Display the results DataFrame
print(results_df)

# Print Tukey's HSD results
for variable in tukey_results:
    print(f"\nTukey's HSD results for {variable}:")
    print(tukey_results[variable])

# Visualize the results using bar plots for F-values, H-values, and Tukey's HSD results
plt.figure(figsize=(18, 6))

# Bar plot for ANOVA F-values
plt.subplot(1, 3, 1)
sns.barplot(x='Variable', y='ANOVA F-value', data=results_df, edgecolor='black', linewidth=2 , fill=False, hatch='/')
plt.title('ANOVA F-values')
plt.xticks(rotation=45)

# Bar plot for Kruskal-Wallis H-values
plt.subplot(1, 3, 2)
sns.barplot(x='Variable', y='Kruskal H-value', data=results_df, edgecolor='black', linewidth=2, fill=False, hatch='/')
plt.title('Kruskal-Wallis H-values')
plt.xticks(rotation=45)

# Bar plot for Tukey's HSD results (mean differences)
tukey_means = {variable: tukey_results[variable].meandiffs.mean() for variable in tukey_results}
tukey_means_df = pd.DataFrame(list(tukey_means.items()), columns=['Variable', 'Mean Difference'])

plt.subplot(1, 3, 3)
sns.barplot(x='Variable', y='Mean Difference', data=tukey_means_df, edgecolor='black', linewidth=2, fill=False, hatch='/')
plt.title("Tukey's HSD Mean Differences")
plt.xticks(rotation=45)

plt.tight_layout()
plt.show()
